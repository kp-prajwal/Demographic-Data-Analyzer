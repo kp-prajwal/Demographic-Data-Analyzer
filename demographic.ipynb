{
  "nbformat": 4,
  "nbformat_minor": 0,
  "metadata": {
    "kernelspec": {
      "display_name": "Python 3",
      "language": "python",
      "name": "python3"
    },
    "language_info": {
      "codemirror_mode": {
        "name": "ipython",
        "version": 3
      },
      "file_extension": ".py",
      "mimetype": "text/x-python",
      "name": "python",
      "nbconvert_exporter": "python",
      "pygments_lexer": "ipython3",
      "version": "3.6.9"
    },
    "colab": {
      "name": "DataAnalysis_Practice.ipynb",
      "provenance": []
    }
  },
  "cells": [
    {
      "cell_type": "markdown",
      "metadata": {
        "id": "wj2umB423MMT"
      },
      "source": [
        "# Demographic Data Analyzer\n",
        "This notebook is to analyze census data that was provided by FreeCodeCamp. The goal here is to create a function that answers the following questions using Pandas:\n",
        "\n",
        "- How many people of each race are represented in this dataset? This should be a Pandas series with race names as the index labels. (race column)\n",
        "- What is the average age of men?\n",
        "- What is the percentage of people who have a Bachelor's degree?\n",
        "- What percentage of people with advanced education (Bachelors, Masters, or Doctorate) make more than 50K?\n",
        "- What percentage of people without advanced education make more than 50K?\n",
        "- What is the minimum number of hours a person works per week?\n",
        "- What percentage of the people who work the minimum number of hours per week have a salary of more than 50K?\n",
        "- What country has the highest percentage of people that earn >50K and what is that percentage?\n",
        "- Identify the most popular occupation for those who earn >50K in India.\n",
        "\n",
        "**Here you will find the link to the assignment and csv file:** https://repl.it/@freeCodeCamp/fcc-demographic-data-analyzer#README.md\n"
      ]
    },
    {
      "cell_type": "code",
      "metadata": {
        "id": "pluVNZJA3MMc"
      },
      "source": [
        "# Importing nedded libraries\n",
        "import pandas as pd\n",
        "import numpy as np"
      ],
      "execution_count": null,
      "outputs": []
    },
    {
      "cell_type": "code",
      "metadata": {
        "id": "mGd-v2mv3MMf"
      },
      "source": [
        "df = pd.read_csv('adult.data.txt') # Importing the data"
      ],
      "execution_count": null,
      "outputs": []
    },
    {
      "cell_type": "code",
      "metadata": {
        "id": "7Tc_NC-73MMf",
        "outputId": "831dc277-0de6-4dba-9efd-44d0fd0a91a3"
      },
      "source": [
        "df.head() # Previewing the data "
      ],
      "execution_count": null,
      "outputs": [
        {
          "output_type": "execute_result",
          "data": {
            "text/html": [
              "<div>\n",
              "<style scoped>\n",
              "    .dataframe tbody tr th:only-of-type {\n",
              "        vertical-align: middle;\n",
              "    }\n",
              "\n",
              "    .dataframe tbody tr th {\n",
              "        vertical-align: top;\n",
              "    }\n",
              "\n",
              "    .dataframe thead th {\n",
              "        text-align: right;\n",
              "    }\n",
              "</style>\n",
              "<table border=\"1\" class=\"dataframe\">\n",
              "  <thead>\n",
              "    <tr style=\"text-align: right;\">\n",
              "      <th></th>\n",
              "      <th>age</th>\n",
              "      <th>workclass</th>\n",
              "      <th>fnlwgt</th>\n",
              "      <th>education</th>\n",
              "      <th>education-num</th>\n",
              "      <th>marital-status</th>\n",
              "      <th>occupation</th>\n",
              "      <th>relationship</th>\n",
              "      <th>race</th>\n",
              "      <th>sex</th>\n",
              "      <th>capital-gain</th>\n",
              "      <th>capital-loss</th>\n",
              "      <th>hours-per-week</th>\n",
              "      <th>native-country</th>\n",
              "      <th>salary</th>\n",
              "    </tr>\n",
              "  </thead>\n",
              "  <tbody>\n",
              "    <tr>\n",
              "      <td>0</td>\n",
              "      <td>39</td>\n",
              "      <td>State-gov</td>\n",
              "      <td>77516</td>\n",
              "      <td>Bachelors</td>\n",
              "      <td>13</td>\n",
              "      <td>Never-married</td>\n",
              "      <td>Adm-clerical</td>\n",
              "      <td>Not-in-family</td>\n",
              "      <td>White</td>\n",
              "      <td>Male</td>\n",
              "      <td>2174</td>\n",
              "      <td>0</td>\n",
              "      <td>40</td>\n",
              "      <td>United-States</td>\n",
              "      <td>&lt;=50K</td>\n",
              "    </tr>\n",
              "    <tr>\n",
              "      <td>1</td>\n",
              "      <td>50</td>\n",
              "      <td>Self-emp-not-inc</td>\n",
              "      <td>83311</td>\n",
              "      <td>Bachelors</td>\n",
              "      <td>13</td>\n",
              "      <td>Married-civ-spouse</td>\n",
              "      <td>Exec-managerial</td>\n",
              "      <td>Husband</td>\n",
              "      <td>White</td>\n",
              "      <td>Male</td>\n",
              "      <td>0</td>\n",
              "      <td>0</td>\n",
              "      <td>13</td>\n",
              "      <td>United-States</td>\n",
              "      <td>&lt;=50K</td>\n",
              "    </tr>\n",
              "    <tr>\n",
              "      <td>2</td>\n",
              "      <td>38</td>\n",
              "      <td>Private</td>\n",
              "      <td>215646</td>\n",
              "      <td>HS-grad</td>\n",
              "      <td>9</td>\n",
              "      <td>Divorced</td>\n",
              "      <td>Handlers-cleaners</td>\n",
              "      <td>Not-in-family</td>\n",
              "      <td>White</td>\n",
              "      <td>Male</td>\n",
              "      <td>0</td>\n",
              "      <td>0</td>\n",
              "      <td>40</td>\n",
              "      <td>United-States</td>\n",
              "      <td>&lt;=50K</td>\n",
              "    </tr>\n",
              "    <tr>\n",
              "      <td>3</td>\n",
              "      <td>53</td>\n",
              "      <td>Private</td>\n",
              "      <td>234721</td>\n",
              "      <td>11th</td>\n",
              "      <td>7</td>\n",
              "      <td>Married-civ-spouse</td>\n",
              "      <td>Handlers-cleaners</td>\n",
              "      <td>Husband</td>\n",
              "      <td>Black</td>\n",
              "      <td>Male</td>\n",
              "      <td>0</td>\n",
              "      <td>0</td>\n",
              "      <td>40</td>\n",
              "      <td>United-States</td>\n",
              "      <td>&lt;=50K</td>\n",
              "    </tr>\n",
              "    <tr>\n",
              "      <td>4</td>\n",
              "      <td>28</td>\n",
              "      <td>Private</td>\n",
              "      <td>338409</td>\n",
              "      <td>Bachelors</td>\n",
              "      <td>13</td>\n",
              "      <td>Married-civ-spouse</td>\n",
              "      <td>Prof-specialty</td>\n",
              "      <td>Wife</td>\n",
              "      <td>Black</td>\n",
              "      <td>Female</td>\n",
              "      <td>0</td>\n",
              "      <td>0</td>\n",
              "      <td>40</td>\n",
              "      <td>Cuba</td>\n",
              "      <td>&lt;=50K</td>\n",
              "    </tr>\n",
              "  </tbody>\n",
              "</table>\n",
              "</div>"
            ],
            "text/plain": [
              "   age         workclass  fnlwgt  education  education-num  \\\n",
              "0   39         State-gov   77516  Bachelors             13   \n",
              "1   50  Self-emp-not-inc   83311  Bachelors             13   \n",
              "2   38           Private  215646    HS-grad              9   \n",
              "3   53           Private  234721       11th              7   \n",
              "4   28           Private  338409  Bachelors             13   \n",
              "\n",
              "       marital-status         occupation   relationship   race     sex  \\\n",
              "0       Never-married       Adm-clerical  Not-in-family  White    Male   \n",
              "1  Married-civ-spouse    Exec-managerial        Husband  White    Male   \n",
              "2            Divorced  Handlers-cleaners  Not-in-family  White    Male   \n",
              "3  Married-civ-spouse  Handlers-cleaners        Husband  Black    Male   \n",
              "4  Married-civ-spouse     Prof-specialty           Wife  Black  Female   \n",
              "\n",
              "   capital-gain  capital-loss  hours-per-week native-country salary  \n",
              "0          2174             0              40  United-States  <=50K  \n",
              "1             0             0              13  United-States  <=50K  \n",
              "2             0             0              40  United-States  <=50K  \n",
              "3             0             0              40  United-States  <=50K  \n",
              "4             0             0              40           Cuba  <=50K  "
            ]
          },
          "metadata": {
            "tags": []
          },
          "execution_count": 3
        }
      ]
    },
    {
      "cell_type": "code",
      "metadata": {
        "id": "WmklB5dh3MMh",
        "outputId": "e4101749-322f-46c4-fac7-960eabb30678"
      },
      "source": [
        "df.shape # Checking how large the data is via rows and columns "
      ],
      "execution_count": null,
      "outputs": [
        {
          "output_type": "execute_result",
          "data": {
            "text/plain": [
              "(32561, 15)"
            ]
          },
          "metadata": {
            "tags": []
          },
          "execution_count": 4
        }
      ]
    },
    {
      "cell_type": "code",
      "metadata": {
        "id": "PGPe84uY3MMj",
        "outputId": "f807670b-4dd2-45cb-8a6f-49f2d9853f9a"
      },
      "source": [
        "df.describe() # Checking the stats of the data"
      ],
      "execution_count": null,
      "outputs": [
        {
          "output_type": "execute_result",
          "data": {
            "text/html": [
              "<div>\n",
              "<style scoped>\n",
              "    .dataframe tbody tr th:only-of-type {\n",
              "        vertical-align: middle;\n",
              "    }\n",
              "\n",
              "    .dataframe tbody tr th {\n",
              "        vertical-align: top;\n",
              "    }\n",
              "\n",
              "    .dataframe thead th {\n",
              "        text-align: right;\n",
              "    }\n",
              "</style>\n",
              "<table border=\"1\" class=\"dataframe\">\n",
              "  <thead>\n",
              "    <tr style=\"text-align: right;\">\n",
              "      <th></th>\n",
              "      <th>age</th>\n",
              "      <th>fnlwgt</th>\n",
              "      <th>education-num</th>\n",
              "      <th>capital-gain</th>\n",
              "      <th>capital-loss</th>\n",
              "      <th>hours-per-week</th>\n",
              "    </tr>\n",
              "  </thead>\n",
              "  <tbody>\n",
              "    <tr>\n",
              "      <td>count</td>\n",
              "      <td>32561.000000</td>\n",
              "      <td>3.256100e+04</td>\n",
              "      <td>32561.000000</td>\n",
              "      <td>32561.000000</td>\n",
              "      <td>32561.000000</td>\n",
              "      <td>32561.000000</td>\n",
              "    </tr>\n",
              "    <tr>\n",
              "      <td>mean</td>\n",
              "      <td>38.581647</td>\n",
              "      <td>1.897784e+05</td>\n",
              "      <td>10.080679</td>\n",
              "      <td>1077.648844</td>\n",
              "      <td>87.303830</td>\n",
              "      <td>40.437456</td>\n",
              "    </tr>\n",
              "    <tr>\n",
              "      <td>std</td>\n",
              "      <td>13.640433</td>\n",
              "      <td>1.055500e+05</td>\n",
              "      <td>2.572720</td>\n",
              "      <td>7385.292085</td>\n",
              "      <td>402.960219</td>\n",
              "      <td>12.347429</td>\n",
              "    </tr>\n",
              "    <tr>\n",
              "      <td>min</td>\n",
              "      <td>17.000000</td>\n",
              "      <td>1.228500e+04</td>\n",
              "      <td>1.000000</td>\n",
              "      <td>0.000000</td>\n",
              "      <td>0.000000</td>\n",
              "      <td>1.000000</td>\n",
              "    </tr>\n",
              "    <tr>\n",
              "      <td>25%</td>\n",
              "      <td>28.000000</td>\n",
              "      <td>1.178270e+05</td>\n",
              "      <td>9.000000</td>\n",
              "      <td>0.000000</td>\n",
              "      <td>0.000000</td>\n",
              "      <td>40.000000</td>\n",
              "    </tr>\n",
              "    <tr>\n",
              "      <td>50%</td>\n",
              "      <td>37.000000</td>\n",
              "      <td>1.783560e+05</td>\n",
              "      <td>10.000000</td>\n",
              "      <td>0.000000</td>\n",
              "      <td>0.000000</td>\n",
              "      <td>40.000000</td>\n",
              "    </tr>\n",
              "    <tr>\n",
              "      <td>75%</td>\n",
              "      <td>48.000000</td>\n",
              "      <td>2.370510e+05</td>\n",
              "      <td>12.000000</td>\n",
              "      <td>0.000000</td>\n",
              "      <td>0.000000</td>\n",
              "      <td>45.000000</td>\n",
              "    </tr>\n",
              "    <tr>\n",
              "      <td>max</td>\n",
              "      <td>90.000000</td>\n",
              "      <td>1.484705e+06</td>\n",
              "      <td>16.000000</td>\n",
              "      <td>99999.000000</td>\n",
              "      <td>4356.000000</td>\n",
              "      <td>99.000000</td>\n",
              "    </tr>\n",
              "  </tbody>\n",
              "</table>\n",
              "</div>"
            ],
            "text/plain": [
              "                age        fnlwgt  education-num  capital-gain  capital-loss  \\\n",
              "count  32561.000000  3.256100e+04   32561.000000  32561.000000  32561.000000   \n",
              "mean      38.581647  1.897784e+05      10.080679   1077.648844     87.303830   \n",
              "std       13.640433  1.055500e+05       2.572720   7385.292085    402.960219   \n",
              "min       17.000000  1.228500e+04       1.000000      0.000000      0.000000   \n",
              "25%       28.000000  1.178270e+05       9.000000      0.000000      0.000000   \n",
              "50%       37.000000  1.783560e+05      10.000000      0.000000      0.000000   \n",
              "75%       48.000000  2.370510e+05      12.000000      0.000000      0.000000   \n",
              "max       90.000000  1.484705e+06      16.000000  99999.000000   4356.000000   \n",
              "\n",
              "       hours-per-week  \n",
              "count    32561.000000  \n",
              "mean        40.437456  \n",
              "std         12.347429  \n",
              "min          1.000000  \n",
              "25%         40.000000  \n",
              "50%         40.000000  \n",
              "75%         45.000000  \n",
              "max         99.000000  "
            ]
          },
          "metadata": {
            "tags": []
          },
          "execution_count": 5
        }
      ]
    },
    {
      "cell_type": "code",
      "metadata": {
        "scrolled": true,
        "id": "e_QiGsBF3MMk",
        "outputId": "022991da-835e-4ab3-993b-f17a9cb679e7"
      },
      "source": [
        "df.isna().sum() # Checking for any missing data "
      ],
      "execution_count": null,
      "outputs": [
        {
          "output_type": "execute_result",
          "data": {
            "text/plain": [
              "age               0\n",
              "workclass         0\n",
              "fnlwgt            0\n",
              "education         0\n",
              "education-num     0\n",
              "marital-status    0\n",
              "occupation        0\n",
              "relationship      0\n",
              "race              0\n",
              "sex               0\n",
              "capital-gain      0\n",
              "capital-loss      0\n",
              "hours-per-week    0\n",
              "native-country    0\n",
              "salary            0\n",
              "dtype: int64"
            ]
          },
          "metadata": {
            "tags": []
          },
          "execution_count": 6
        }
      ]
    },
    {
      "cell_type": "code",
      "metadata": {
        "id": "VpXOB9ZN3MMl",
        "outputId": "af475c2f-0d75-4a04-a785-d7ad8bac4e29"
      },
      "source": [
        "df.info() # Checking the data types of each column"
      ],
      "execution_count": null,
      "outputs": [
        {
          "output_type": "stream",
          "text": [
            "<class 'pandas.core.frame.DataFrame'>\n",
            "RangeIndex: 32561 entries, 0 to 32560\n",
            "Data columns (total 15 columns):\n",
            "age               32561 non-null int64\n",
            "workclass         32561 non-null object\n",
            "fnlwgt            32561 non-null int64\n",
            "education         32561 non-null object\n",
            "education-num     32561 non-null int64\n",
            "marital-status    32561 non-null object\n",
            "occupation        32561 non-null object\n",
            "relationship      32561 non-null object\n",
            "race              32561 non-null object\n",
            "sex               32561 non-null object\n",
            "capital-gain      32561 non-null int64\n",
            "capital-loss      32561 non-null int64\n",
            "hours-per-week    32561 non-null int64\n",
            "native-country    32561 non-null object\n",
            "salary            32561 non-null object\n",
            "dtypes: int64(6), object(9)\n",
            "memory usage: 3.7+ MB\n"
          ],
          "name": "stdout"
        }
      ]
    },
    {
      "cell_type": "markdown",
      "metadata": {
        "id": "sfA6WuEQ3MMm"
      },
      "source": [
        "# The Function\n",
        "The skeleton of this function was provided by Free Code Camp, my job is to fill in the portions that will answer the questions listed in the notebook description. Before I work on the function, I will find the answers to each part of the function. Then I will bring everthing all together in the end. "
      ]
    },
    {
      "cell_type": "markdown",
      "metadata": {
        "id": "23GSA1cM3MMn"
      },
      "source": [
        "# Lets Get Started: Answering The Questions"
      ]
    },
    {
      "cell_type": "markdown",
      "metadata": {
        "id": "nah9T-KG3MMo"
      },
      "source": [
        "# Race Count: This Must Be Reported In A Series With The Race As The Index"
      ]
    },
    {
      "cell_type": "code",
      "metadata": {
        "scrolled": true,
        "id": "aWzmUjAd3MMq",
        "outputId": "72f77a82-b576-482e-fef7-d26f54d022e4"
      },
      "source": [
        "# Locate the race count for the df and checking the class type\n",
        "racecount = df['race'].value_counts()\n",
        "print(racecount)\n",
        "print( f'\\n Data Type: {type(racecount)}') "
      ],
      "execution_count": null,
      "outputs": [
        {
          "output_type": "stream",
          "text": [
            "White                 27816\n",
            "Black                  3124\n",
            "Asian-Pac-Islander     1039\n",
            "Amer-Indian-Eskimo      311\n",
            "Other                   271\n",
            "Name: race, dtype: int64\n",
            "\n",
            " Data Type: <class 'pandas.core.series.Series'>\n"
          ],
          "name": "stdout"
        }
      ]
    },
    {
      "cell_type": "markdown",
      "metadata": {
        "id": "h1B_ipIm3MMq"
      },
      "source": [
        "# What Is The Average Age Of Men?"
      ]
    },
    {
      "cell_type": "code",
      "metadata": {
        "id": "BHLaoSmr3MMs",
        "outputId": "b2420dee-b28c-4d93-fe6a-5c6e1ce10fdb"
      },
      "source": [
        "# Locate the males in df and then calculate the mean of their ages\n",
        "males = df[df['sex'] == 'Male']\n",
        "males['age'].mean()"
      ],
      "execution_count": null,
      "outputs": [
        {
          "output_type": "execute_result",
          "data": {
            "text/plain": [
              "39.43354749885268"
            ]
          },
          "metadata": {
            "tags": []
          },
          "execution_count": 15
        }
      ]
    },
    {
      "cell_type": "code",
      "metadata": {
        "scrolled": true,
        "id": "YwNa2H_-3MMs",
        "outputId": "85640761-8fd0-4152-fdd9-5fdd4e77d30d"
      },
      "source": [
        "males.head() # Quick view of the males "
      ],
      "execution_count": null,
      "outputs": [
        {
          "output_type": "execute_result",
          "data": {
            "text/html": [
              "<div>\n",
              "<style scoped>\n",
              "    .dataframe tbody tr th:only-of-type {\n",
              "        vertical-align: middle;\n",
              "    }\n",
              "\n",
              "    .dataframe tbody tr th {\n",
              "        vertical-align: top;\n",
              "    }\n",
              "\n",
              "    .dataframe thead th {\n",
              "        text-align: right;\n",
              "    }\n",
              "</style>\n",
              "<table border=\"1\" class=\"dataframe\">\n",
              "  <thead>\n",
              "    <tr style=\"text-align: right;\">\n",
              "      <th></th>\n",
              "      <th>age</th>\n",
              "      <th>workclass</th>\n",
              "      <th>fnlwgt</th>\n",
              "      <th>education</th>\n",
              "      <th>education-num</th>\n",
              "      <th>marital-status</th>\n",
              "      <th>occupation</th>\n",
              "      <th>relationship</th>\n",
              "      <th>race</th>\n",
              "      <th>sex</th>\n",
              "      <th>capital-gain</th>\n",
              "      <th>capital-loss</th>\n",
              "      <th>hours-per-week</th>\n",
              "      <th>native-country</th>\n",
              "      <th>salary</th>\n",
              "    </tr>\n",
              "  </thead>\n",
              "  <tbody>\n",
              "    <tr>\n",
              "      <td>0</td>\n",
              "      <td>39</td>\n",
              "      <td>State-gov</td>\n",
              "      <td>77516</td>\n",
              "      <td>Bachelors</td>\n",
              "      <td>13</td>\n",
              "      <td>Never-married</td>\n",
              "      <td>Adm-clerical</td>\n",
              "      <td>Not-in-family</td>\n",
              "      <td>White</td>\n",
              "      <td>Male</td>\n",
              "      <td>2174</td>\n",
              "      <td>0</td>\n",
              "      <td>40</td>\n",
              "      <td>United-States</td>\n",
              "      <td>&lt;=50K</td>\n",
              "    </tr>\n",
              "    <tr>\n",
              "      <td>1</td>\n",
              "      <td>50</td>\n",
              "      <td>Self-emp-not-inc</td>\n",
              "      <td>83311</td>\n",
              "      <td>Bachelors</td>\n",
              "      <td>13</td>\n",
              "      <td>Married-civ-spouse</td>\n",
              "      <td>Exec-managerial</td>\n",
              "      <td>Husband</td>\n",
              "      <td>White</td>\n",
              "      <td>Male</td>\n",
              "      <td>0</td>\n",
              "      <td>0</td>\n",
              "      <td>13</td>\n",
              "      <td>United-States</td>\n",
              "      <td>&lt;=50K</td>\n",
              "    </tr>\n",
              "    <tr>\n",
              "      <td>2</td>\n",
              "      <td>38</td>\n",
              "      <td>Private</td>\n",
              "      <td>215646</td>\n",
              "      <td>HS-grad</td>\n",
              "      <td>9</td>\n",
              "      <td>Divorced</td>\n",
              "      <td>Handlers-cleaners</td>\n",
              "      <td>Not-in-family</td>\n",
              "      <td>White</td>\n",
              "      <td>Male</td>\n",
              "      <td>0</td>\n",
              "      <td>0</td>\n",
              "      <td>40</td>\n",
              "      <td>United-States</td>\n",
              "      <td>&lt;=50K</td>\n",
              "    </tr>\n",
              "    <tr>\n",
              "      <td>3</td>\n",
              "      <td>53</td>\n",
              "      <td>Private</td>\n",
              "      <td>234721</td>\n",
              "      <td>11th</td>\n",
              "      <td>7</td>\n",
              "      <td>Married-civ-spouse</td>\n",
              "      <td>Handlers-cleaners</td>\n",
              "      <td>Husband</td>\n",
              "      <td>Black</td>\n",
              "      <td>Male</td>\n",
              "      <td>0</td>\n",
              "      <td>0</td>\n",
              "      <td>40</td>\n",
              "      <td>United-States</td>\n",
              "      <td>&lt;=50K</td>\n",
              "    </tr>\n",
              "    <tr>\n",
              "      <td>7</td>\n",
              "      <td>52</td>\n",
              "      <td>Self-emp-not-inc</td>\n",
              "      <td>209642</td>\n",
              "      <td>HS-grad</td>\n",
              "      <td>9</td>\n",
              "      <td>Married-civ-spouse</td>\n",
              "      <td>Exec-managerial</td>\n",
              "      <td>Husband</td>\n",
              "      <td>White</td>\n",
              "      <td>Male</td>\n",
              "      <td>0</td>\n",
              "      <td>0</td>\n",
              "      <td>45</td>\n",
              "      <td>United-States</td>\n",
              "      <td>&gt;50K</td>\n",
              "    </tr>\n",
              "  </tbody>\n",
              "</table>\n",
              "</div>"
            ],
            "text/plain": [
              "   age         workclass  fnlwgt  education  education-num  \\\n",
              "0   39         State-gov   77516  Bachelors             13   \n",
              "1   50  Self-emp-not-inc   83311  Bachelors             13   \n",
              "2   38           Private  215646    HS-grad              9   \n",
              "3   53           Private  234721       11th              7   \n",
              "7   52  Self-emp-not-inc  209642    HS-grad              9   \n",
              "\n",
              "       marital-status         occupation   relationship   race   sex  \\\n",
              "0       Never-married       Adm-clerical  Not-in-family  White  Male   \n",
              "1  Married-civ-spouse    Exec-managerial        Husband  White  Male   \n",
              "2            Divorced  Handlers-cleaners  Not-in-family  White  Male   \n",
              "3  Married-civ-spouse  Handlers-cleaners        Husband  Black  Male   \n",
              "7  Married-civ-spouse    Exec-managerial        Husband  White  Male   \n",
              "\n",
              "   capital-gain  capital-loss  hours-per-week native-country salary  \n",
              "0          2174             0              40  United-States  <=50K  \n",
              "1             0             0              13  United-States  <=50K  \n",
              "2             0             0              40  United-States  <=50K  \n",
              "3             0             0              40  United-States  <=50K  \n",
              "7             0             0              45  United-States   >50K  "
            ]
          },
          "metadata": {
            "tags": []
          },
          "execution_count": 16
        }
      ]
    },
    {
      "cell_type": "markdown",
      "metadata": {
        "id": "atB7R8nf3MMs"
      },
      "source": [
        "# What Is The Percentage Of People Who Have A Bachelor's Degree?"
      ]
    },
    {
      "cell_type": "code",
      "metadata": {
        "id": "cnE3cmVA3MMt",
        "outputId": "71ddc780-5b89-4ffc-f0e2-94eeb5b5d175"
      },
      "source": [
        "percentagebachelors = df.loc[df['education'] == 'Bachelors']\n",
        "len(percentagebachelors) # Length of the people who have bachelors degree"
      ],
      "execution_count": null,
      "outputs": [
        {
          "output_type": "execute_result",
          "data": {
            "text/plain": [
              "5355"
            ]
          },
          "metadata": {
            "tags": []
          },
          "execution_count": 31
        }
      ]
    },
    {
      "cell_type": "code",
      "metadata": {
        "id": "EVyUQN8y3MMu",
        "outputId": "279a01a5-c441-44f4-f614-4e8a6e5e8042"
      },
      "source": [
        "len(df) # Length of full data frame"
      ],
      "execution_count": null,
      "outputs": [
        {
          "output_type": "execute_result",
          "data": {
            "text/plain": [
              "32561"
            ]
          },
          "metadata": {
            "tags": []
          },
          "execution_count": 29
        }
      ]
    },
    {
      "cell_type": "code",
      "metadata": {
        "id": "UI08a1LF3MM3",
        "outputId": "6ea67b61-b41e-47dd-e534-adc4ca56419b"
      },
      "source": [
        "(len(percentagebachelors)/len(df))*100 # Percentage of people with bachelors degree"
      ],
      "execution_count": null,
      "outputs": [
        {
          "output_type": "execute_result",
          "data": {
            "text/plain": [
              "16.44605509658794"
            ]
          },
          "metadata": {
            "tags": []
          },
          "execution_count": 30
        }
      ]
    },
    {
      "cell_type": "markdown",
      "metadata": {
        "id": "oM-f5I693MM5"
      },
      "source": [
        "# What Percentage Of People With Advanced Education (`Bachelors`, `Masters`, Or `Doctorate`) Make More Than 50K?"
      ]
    },
    {
      "cell_type": "code",
      "metadata": {
        "id": "WLPDyJr53MM5",
        "outputId": "282728ce-7f6f-4a7e-9665-e2e5dd02565e"
      },
      "source": [
        "\n",
        "Bachelors = df.loc[(df['education'] == 'Bachelors') & (df['salary'] == '>50K')]\n",
        "len(Bachelors)/len(df)*100"
      ],
      "execution_count": null,
      "outputs": [
        {
          "output_type": "execute_result",
          "data": {
            "text/plain": [
              "6.821043579742637"
            ]
          },
          "metadata": {
            "tags": []
          },
          "execution_count": 110
        }
      ]
    },
    {
      "cell_type": "code",
      "metadata": {
        "id": "ytgp3bxf3MM6",
        "outputId": "c0ecb355-6dba-4c9b-b83e-1f8baca21552"
      },
      "source": [
        "Masters = df.loc[(df['education'] == 'Masters') & (df['salary'] == '>50K')]\n",
        "(len(Masters)/len(df))*100"
      ],
      "execution_count": null,
      "outputs": [
        {
          "output_type": "execute_result",
          "data": {
            "text/plain": [
              "2.945241239519671"
            ]
          },
          "metadata": {
            "tags": []
          },
          "execution_count": 37
        }
      ]
    },
    {
      "cell_type": "code",
      "metadata": {
        "id": "MOGaENbD3MM7",
        "outputId": "90120ab7-668c-4da9-cf5c-6524fa146188"
      },
      "source": [
        "Doctorate = df.loc[(df['education'] == 'Doctorate') & (df['salary'] == '>50K')]\n",
        "(len(Doctorate)/len(df))*100"
      ],
      "execution_count": null,
      "outputs": [
        {
          "output_type": "execute_result",
          "data": {
            "text/plain": [
              "0.9397745769478825"
            ]
          },
          "metadata": {
            "tags": []
          },
          "execution_count": 38
        }
      ]
    },
    {
      "cell_type": "code",
      "metadata": {
        "id": "O9T-QHtm3MM7",
        "outputId": "9a2d1407-a1bd-4765-fbc4-f1fd21f35695"
      },
      "source": [
        "df['education'].value_counts() # The amount of people for each level of education"
      ],
      "execution_count": null,
      "outputs": [
        {
          "output_type": "execute_result",
          "data": {
            "text/plain": [
              "HS-grad         10501\n",
              "Some-college     7291\n",
              "Bachelors        5355\n",
              "Masters          1723\n",
              "Assoc-voc        1382\n",
              "11th             1175\n",
              "Assoc-acdm       1067\n",
              "10th              933\n",
              "7th-8th           646\n",
              "Prof-school       576\n",
              "9th               514\n",
              "12th              433\n",
              "Doctorate         413\n",
              "5th-6th           333\n",
              "1st-4th           168\n",
              "Preschool          51\n",
              "Name: education, dtype: int64"
            ]
          },
          "metadata": {
            "tags": []
          },
          "execution_count": 7
        }
      ]
    },
    {
      "cell_type": "markdown",
      "metadata": {
        "id": "tDmke84y3MM8"
      },
      "source": [
        "# What Percentage Of People Without Advanced Education Make More Than 50K?"
      ]
    },
    {
      "cell_type": "code",
      "metadata": {
        "id": "SaL7Nkwq3MM9",
        "outputId": "0d49d01f-98ca-49a9-92e9-95bdd5836d0d"
      },
      "source": [
        "Some_college = df.loc[(df['education'] == 'Some-college') & (df['salary'] == '>50K')]\n",
        "print(f'Some College: {(len(Some_college)/len(df))*100}%')\n",
        "\n",
        "HS_grad = df.loc[(df['education'] == 'HS-grad') & (df['salary'] == '>50K')]\n",
        "print(f'High School Grad: {(len(HS_grad)/len(df))*100}%') "
      ],
      "execution_count": null,
      "outputs": [
        {
          "output_type": "stream",
          "text": [
            "Some College: 4.259697183747428%\n",
            "High School Grad: 5.144190903227788%\n"
          ],
          "name": "stdout"
        }
      ]
    },
    {
      "cell_type": "markdown",
      "metadata": {
        "id": "WnUcD80P3MM_"
      },
      "source": [
        "# With And Without `Bachelors`, `Masters`, Or `Doctorate`"
      ]
    },
    {
      "cell_type": "code",
      "metadata": {
        "id": "Dkj3l9mG3MM_"
      },
      "source": [
        "higher_education = df[df['education'].isin(['Bachelors', 'Masters', 'Doctorate'])]\n",
        "lower_education = df[~df['education'].isin(['Bachelors', 'Masters', 'Doctorate'])]"
      ],
      "execution_count": null,
      "outputs": []
    },
    {
      "cell_type": "markdown",
      "metadata": {
        "id": "0lO7LBec3MNA"
      },
      "source": [
        "# Percentage With Salary >50K"
      ]
    },
    {
      "cell_type": "code",
      "metadata": {
        "id": "zREtEShM3MNA",
        "outputId": "e994d9b7-a9a3-461e-84d2-dff67925d793"
      },
      "source": [
        "higher_education_rich = higher_education[higher_education['salary'] == '>50K'\n",
        "                                        ]['salary'].value_counts() / higher_education.shape[0] * 100\n",
        "print(f'Higher Education %: {higher_education_rich}%')\n",
        "lower_education_rich = lower_education[lower_education['salary'\n",
        "                                                      ] == '<=50K']['salary'\n",
        "                                                                   ].value_counts() / lower_education.shape[0] * 100\n",
        "\n",
        "print(f'\\n Lower Education %: {lower_education_rich}%')"
      ],
      "execution_count": null,
      "outputs": [
        {
          "output_type": "stream",
          "text": [
            "Higher Education %: >50K    46.535843\n",
            "Name: salary, dtype: float64%\n",
            "\n",
            " Lower Education %: <=50K    82.62864\n",
            "Name: salary, dtype: float64%\n"
          ],
          "name": "stdout"
        }
      ]
    },
    {
      "cell_type": "markdown",
      "metadata": {
        "id": "-wMzq8dj3MNB"
      },
      "source": [
        "# What Is The Minimum Number Of Hours A Person Works Per Week (Hours-Per-Week Feature)?"
      ]
    },
    {
      "cell_type": "code",
      "metadata": {
        "id": "393ozx3E3MNB",
        "outputId": "c44ba96c-9223-47b6-890e-6ee44ac361dc"
      },
      "source": [
        "minworkhours = df['hours-per-week'].min()\n",
        "minworkhours"
      ],
      "execution_count": null,
      "outputs": [
        {
          "output_type": "execute_result",
          "data": {
            "text/plain": [
              "1"
            ]
          },
          "metadata": {
            "tags": []
          },
          "execution_count": 38
        }
      ]
    },
    {
      "cell_type": "markdown",
      "metadata": {
        "id": "8NnGormj3MNC"
      },
      "source": [
        "# What Percentage Of The People Who Work The Minimum Number Of Hours Per Week Have A Salary Of >50K?"
      ]
    },
    {
      "cell_type": "code",
      "metadata": {
        "id": "3OyBnAUy3MND",
        "outputId": "2b5ae166-8c8a-4c7d-8b17-7b69b31b3d01"
      },
      "source": [
        "numminworkers = df.loc[(df['hours-per-week'] == 1) & (df['salary'] == '>50K')]\n",
        "richpercentage = (len(numminworkers)/len(df))*100\n",
        "print(f'Rich Percentage: {richpercentage}%')"
      ],
      "execution_count": null,
      "outputs": [
        {
          "output_type": "stream",
          "text": [
            "Rich Percentage: 0.006142317496391388%\n"
          ],
          "name": "stdout"
        }
      ]
    },
    {
      "cell_type": "code",
      "metadata": {
        "id": "yjKovXdU3MNE",
        "outputId": "a6501118-da74-4d24-81b0-77ddb052746d"
      },
      "source": [
        "numminworkers.head() # Quick view of who made the most working the lest amount of hours"
      ],
      "execution_count": null,
      "outputs": [
        {
          "output_type": "execute_result",
          "data": {
            "text/html": [
              "<div>\n",
              "<style scoped>\n",
              "    .dataframe tbody tr th:only-of-type {\n",
              "        vertical-align: middle;\n",
              "    }\n",
              "\n",
              "    .dataframe tbody tr th {\n",
              "        vertical-align: top;\n",
              "    }\n",
              "\n",
              "    .dataframe thead th {\n",
              "        text-align: right;\n",
              "    }\n",
              "</style>\n",
              "<table border=\"1\" class=\"dataframe\">\n",
              "  <thead>\n",
              "    <tr style=\"text-align: right;\">\n",
              "      <th></th>\n",
              "      <th>age</th>\n",
              "      <th>workclass</th>\n",
              "      <th>fnlwgt</th>\n",
              "      <th>education</th>\n",
              "      <th>education-num</th>\n",
              "      <th>marital-status</th>\n",
              "      <th>occupation</th>\n",
              "      <th>relationship</th>\n",
              "      <th>race</th>\n",
              "      <th>sex</th>\n",
              "      <th>capital-gain</th>\n",
              "      <th>capital-loss</th>\n",
              "      <th>hours-per-week</th>\n",
              "      <th>native-country</th>\n",
              "      <th>salary</th>\n",
              "    </tr>\n",
              "  </thead>\n",
              "  <tbody>\n",
              "    <tr>\n",
              "      <td>189</td>\n",
              "      <td>58</td>\n",
              "      <td>State-gov</td>\n",
              "      <td>109567</td>\n",
              "      <td>Doctorate</td>\n",
              "      <td>16</td>\n",
              "      <td>Married-civ-spouse</td>\n",
              "      <td>Prof-specialty</td>\n",
              "      <td>Husband</td>\n",
              "      <td>White</td>\n",
              "      <td>Male</td>\n",
              "      <td>0</td>\n",
              "      <td>0</td>\n",
              "      <td>1</td>\n",
              "      <td>United-States</td>\n",
              "      <td>&gt;50K</td>\n",
              "    </tr>\n",
              "    <tr>\n",
              "      <td>20072</td>\n",
              "      <td>65</td>\n",
              "      <td>?</td>\n",
              "      <td>76043</td>\n",
              "      <td>HS-grad</td>\n",
              "      <td>9</td>\n",
              "      <td>Married-civ-spouse</td>\n",
              "      <td>?</td>\n",
              "      <td>Husband</td>\n",
              "      <td>White</td>\n",
              "      <td>Male</td>\n",
              "      <td>0</td>\n",
              "      <td>0</td>\n",
              "      <td>1</td>\n",
              "      <td>United-States</td>\n",
              "      <td>&gt;50K</td>\n",
              "    </tr>\n",
              "  </tbody>\n",
              "</table>\n",
              "</div>"
            ],
            "text/plain": [
              "       age  workclass  fnlwgt  education  education-num      marital-status  \\\n",
              "189     58  State-gov  109567  Doctorate             16  Married-civ-spouse   \n",
              "20072   65          ?   76043    HS-grad              9  Married-civ-spouse   \n",
              "\n",
              "           occupation relationship   race   sex  capital-gain  capital-loss  \\\n",
              "189    Prof-specialty      Husband  White  Male             0             0   \n",
              "20072               ?      Husband  White  Male             0             0   \n",
              "\n",
              "       hours-per-week native-country salary  \n",
              "189                 1  United-States   >50K  \n",
              "20072               1  United-States   >50K  "
            ]
          },
          "metadata": {
            "tags": []
          },
          "execution_count": 46
        }
      ]
    },
    {
      "cell_type": "markdown",
      "metadata": {
        "id": "KlAaU1Zo3MNE"
      },
      "source": [
        "# What Country Has The Highest Percentage Of People That Earn >50K?"
      ]
    },
    {
      "cell_type": "code",
      "metadata": {
        "scrolled": true,
        "id": "ucPSEz-W3MNE",
        "outputId": "e266c06d-ad65-428d-e352-1272e1585301"
      },
      "source": [
        "highestearningcountry = df.loc[df['salary'] =='>50K']\n",
        "highestearningcountry['native-country'].value_counts().head(1)"
      ],
      "execution_count": null,
      "outputs": [
        {
          "output_type": "execute_result",
          "data": {
            "text/plain": [
              "United-States    7171\n",
              "Name: native-country, dtype: int64"
            ]
          },
          "metadata": {
            "tags": []
          },
          "execution_count": 100
        }
      ]
    },
    {
      "cell_type": "code",
      "metadata": {
        "id": "q_67dckE3MNG",
        "outputId": "82fc03cf-8a3c-438a-9f52-4c2506867847"
      },
      "source": [
        "print(f' Highest Percentage of Earnings: {(7171/len(df))*100}%')"
      ],
      "execution_count": null,
      "outputs": [
        {
          "output_type": "stream",
          "text": [
            " Highest Percentage of Earnings: 22.023279383311323%\n"
          ],
          "name": "stdout"
        }
      ]
    },
    {
      "cell_type": "markdown",
      "metadata": {
        "id": "9XNwuZzM3MNG"
      },
      "source": [
        "# Identify The Most Popular Occupation For Those Who Earn >50K In India."
      ]
    },
    {
      "cell_type": "code",
      "metadata": {
        "id": "m1y2-2a43MNH",
        "outputId": "b48cfcc2-e238-4723-911e-2b5ae324f8f7"
      },
      "source": [
        "topINoccupation = df.loc[(df['native-country'] == 'India') & (df['salary']== '>50K')]\n",
        "topINoccupation['occupation'].value_counts().head(1)"
      ],
      "execution_count": null,
      "outputs": [
        {
          "output_type": "execute_result",
          "data": {
            "text/plain": [
              "Prof-specialty    25\n",
              "Name: occupation, dtype: int64"
            ]
          },
          "metadata": {
            "tags": []
          },
          "execution_count": 95
        }
      ]
    },
    {
      "cell_type": "markdown",
      "metadata": {
        "id": "8zsR0Y8e3MNH"
      },
      "source": [
        "# Pulling It All Together: The Function"
      ]
    },
    {
      "cell_type": "code",
      "metadata": {
        "id": "IO22whSi3MNI"
      },
      "source": [
        "\n",
        "def calculate_demographic_data(print_data=True):\n",
        "    # Read data from file\n",
        "    df = pd.read_csv('adult.data.txt')\n",
        "\n",
        "    # How many of each race are represented in this dataset? This should be a Pandas series with race names as the index labels.\n",
        "    race_count = df['race'].value_counts()\n",
        "\n",
        "    # What is the average age of men?\n",
        "    average_age_men = df[df['sex'] == 'Male']['age'].mean()\n",
        "\n",
        "    # What is the percentage of people who have a Bachelor's degree?\n",
        "    percentage_bachelors = df[df['education'] == 'Bachelors'].shape[0] / df.shape[0] * 100\n",
        "\n",
        "    # What percentage of people with advanced education (`Bachelors`, `Masters`, or `Doctorate`) make more than 50K?\n",
        "    # What percentage of people without advanced education make more than 50K?\n",
        "\n",
        "    # with and without `Bachelors`, `Masters`, or `Doctorate`\n",
        "    higher_education = df[df['education'].isin(['Bachelors', 'Masters', 'Doctorate'])]\n",
        "    lower_education = df[~df['education'].isin(['Bachelors', 'Masters', 'Doctorate'])]\n",
        "\n",
        "    # percentage with salary >50K\n",
        "    higher_education_rich = higher_education[higher_education['salary'] == '>50K']['salary'].value_counts() / higher_education.shape[0] * 100\n",
        "\n",
        "    lower_education_rich = lower_education[lower_education['salary'] == '<=50K']['salary'].value_counts() / lower_education.shape[0] * 100\n",
        "\n",
        "    # What is the minimum number of hours a person works per week (hours-per-week feature)?\n",
        "    min_work_hours = df['hours-per-week'].min()\n",
        "\n",
        "    # What percentage of the people who work the minimum number of hours per week have a salary of >50K?\n",
        "    num_min_workers = df[df['hours-per-week'] == 1]['hours-per-week'].value_counts()\n",
        "\n",
        "    rich_percentage = df[(df['hours-per-week'] == 1) & (df['salary'] == '>50K')].shape[0] / num_min_workers\n",
        "\n",
        "    # What country has the highest percentage of people that earn >50K?\n",
        "    highest_earning_country = df[df['salary'] == '>50K'].groupby('native-country')['native-country'].value_counts().max()\n",
        "\n",
        "    highest_earning_country_percentage = (highest_earning_country / df.groupby('native-country')['native-country'].value_counts()).max()\n",
        "\n",
        "    # Identify the most popular occupation for those who earn >50K in India.\n",
        "    top_IN_occupation = df[(df['native-country'] == 'India') & (df['salary'] == '>50K')].groupby('occupation')['occupation'].value_counts().max()\n",
        "\n",
        "\n",
        "    # DO NOT MODIFY BELOW THIS LINE\n",
        "\n",
        "    if print_data:\n",
        "        print(\"Number of each race:\\n\", race_count) \n",
        "        print(\"Average age of men:\", average_age_men)\n",
        "        print(f\"Percentage with Bachelors degrees: {percentage_bachelors}%\")\n",
        "        print(f\"Percentage with higher education that earn >50K: {higher_education_rich}%\")\n",
        "        print(f\"Percentage without higher education that earn >50K: {lower_education_rich}%\")\n",
        "        print(f\"Min work time: {min_work_hours} hours/week\")\n",
        "        print(f\"Percentage of rich among those who work fewest hours: {rich_percentage}%\")\n",
        "        print(\"Country with highest percentage of rich:\", highest_earning_country)\n",
        "        print(f\"Highest percentage of rich people in country: {highest_earning_country_percentage}%\")\n",
        "        print(\"Top occupations in India:\", top_IN_occupation)\n",
        "\n",
        "    return {\n",
        "        'race_count': race_count,\n",
        "        'average_age_men': average_age_men,\n",
        "        'percentage_bachelors': percentage_bachelors,\n",
        "        'higher_education_rich': higher_education_rich,\n",
        "        'lower_education_rich': lower_education_rich,\n",
        "        'min_work_hours': min_work_hours,\n",
        "        'rich_percentage': rich_percentage,\n",
        "        'highest_earning_country': highest_earning_country,\n",
        "        'highest_earning_country_percentage':\n",
        "        highest_earning_country_percentage,\n",
        "        'top_IN_occupation': top_IN_occupation\n",
        "    }\n"
      ],
      "execution_count": null,
      "outputs": []
    },
    {
      "cell_type": "markdown",
      "metadata": {
        "id": "YH76pQbH3MNI"
      },
      "source": [
        "# Testing Out The Function"
      ]
    },
    {
      "cell_type": "code",
      "metadata": {
        "scrolled": true,
        "id": "TZ08u60o3MNI",
        "outputId": "4fe39bd4-f963-4ba9-c272-bf5414e6b8ad"
      },
      "source": [
        "calculate_demographic_data()"
      ],
      "execution_count": null,
      "outputs": [
        {
          "output_type": "stream",
          "text": [
            "Number of each race:\n",
            " White                 27816\n",
            "Black                  3124\n",
            "Asian-Pac-Islander     1039\n",
            "Amer-Indian-Eskimo      311\n",
            "Other                   271\n",
            "Name: race, dtype: int64\n",
            "Average age of men: 39.43354749885268\n",
            "Percentage with Bachelors degrees: 16.44605509658794%\n",
            "Percentage with higher education that earn >50K: >50K    46.535843\n",
            "Name: salary, dtype: float64%\n",
            "Percentage without higher education that earn >50K: <=50K    82.62864\n",
            "Name: salary, dtype: float64%\n",
            "Min work time: 1 hours/week\n",
            "Percentage of rich among those who work fewest hours: 1    0.1\n",
            "Name: hours-per-week, dtype: float64%\n",
            "Country with highest percentage of rich: 7171\n",
            "Highest percentage of rich people in country: 7171.0%\n",
            "Top occupations in India: 25\n"
          ],
          "name": "stdout"
        },
        {
          "output_type": "execute_result",
          "data": {
            "text/plain": [
              "{'race_count': White                 27816\n",
              " Black                  3124\n",
              " Asian-Pac-Islander     1039\n",
              " Amer-Indian-Eskimo      311\n",
              " Other                   271\n",
              " Name: race, dtype: int64,\n",
              " 'average_age_men': 39.43354749885268,\n",
              " 'percentage_bachelors': 16.44605509658794,\n",
              " 'higher_education_rich': >50K    46.535843\n",
              " Name: salary, dtype: float64,\n",
              " 'lower_education_rich': <=50K    82.62864\n",
              " Name: salary, dtype: float64,\n",
              " 'min_work_hours': 1,\n",
              " 'rich_percentage': 1    0.1\n",
              " Name: hours-per-week, dtype: float64,\n",
              " 'highest_earning_country': 7171,\n",
              " 'highest_earning_country_percentage': 7171.0,\n",
              " 'top_IN_occupation': 25}"
            ]
          },
          "metadata": {
            "tags": []
          },
          "execution_count": 98
        }
      ]
    }
  ]
}